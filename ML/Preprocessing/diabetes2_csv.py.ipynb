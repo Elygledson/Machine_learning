{
 "cells": [
  {
   "cell_type": "code",
   "execution_count": 1,
   "id": "7f0e3e5a",
   "metadata": {},
   "outputs": [
    {
     "name": "stdout",
     "output_type": "stream",
     "text": [
      "\n",
      " - Lendo o arquivo com o dataset sobre diabetes\n",
      " - Criando X e y para o algoritmo de aprendizagem a partir do arquivo diabetes_dataset\n",
      " - Criando modelo preditivo\n",
      " - Aplicando modelo e enviando para o servidor\n",
      " - Resposta do servidor:\n",
      " {\"status\":\"success\",\"dev_key\":\"IACE\",\"accuracy\":0.5714285714285714,\"old_accuracy\":0.55612244897959} \n",
      "\n"
     ]
    }
   ],
   "source": [
    "#!/usr/bin/env python3\n",
    "# -*- coding: utf-8 -*-\n",
    "\"\"\"\n",
    "Atividade para trabalhar o pré-processamento dos dados.\n",
    "\n",
    "Criação de modelo preditivo para diabetes e envio para verificação de peformance\n",
    "no servidor.\n",
    "\n",
    "@author: Aydano Machado <aydano.machado@gmail.com>\n",
    "\"\"\"\n",
    "\n",
    "import pandas as pd\n",
    "from sklearn.neighbors import KNeighborsClassifier\n",
    "import requests\n",
    "\n",
    "print('\\n - Lendo o arquivo com o dataset sobre diabetes')\n",
    "data = pd.read_csv('C:/Users/elygl/Documents/Machine_learning/ML/Preprocessing/diabetes_dataset2.csv')\n",
    "\n",
    "# Criando X and y par ao algorítmo de aprendizagem de máquina.\\\n",
    "print(' - Criando X e y para o algoritmo de aprendizagem a partir do arquivo diabetes_dataset')\n",
    "# Caso queira modificar as colunas consideradas basta algera o array a seguir.\n",
    "feature_cols = ['Pregnancies', 'Glucose', 'BloodPressure', 'SkinThickness', \n",
    "                'Insulin', 'BMI', 'DiabetesPedigreeFunction', 'Age']\n",
    "X = data[feature_cols]\n",
    "y = data.Outcome\n",
    "\n",
    "# Ciando o modelo preditivo para a base trabalhada\n",
    "print(' - Criando modelo preditivo')\n",
    "neigh = KNeighborsClassifier(n_neighbors=3)\n",
    "neigh.fit(X, y)\n",
    "\n",
    "#realizando previsões com o arquivo de\n",
    "print(' - Aplicando modelo e enviando para o servidor')\n",
    "data_app = pd.read_csv('diabetes_app.csv')\n",
    "data_app = data_app[feature_cols]\n",
    "y_pred = neigh.predict(data_app)\n",
    "\n",
    "# Enviando previsões realizadas com o modelo para o servidor\n",
    "URL = \"https://aydanomachado.com/mlclass/01_Preprocessing.php\"\n",
    "\n",
    "#TODO Substituir pela sua chave aqui\n",
    "DEV_KEY = \"IACE\"\n",
    "\n",
    "# json para ser enviado para o servidor\n",
    "data = {'dev_key':DEV_KEY,\n",
    "        'predictions':pd.Series(y_pred).to_json(orient='values')}\n",
    "\n",
    "# Enviando requisição e salvando o objeto resposta\n",
    "r = requests.post(url = URL, data = data)\n",
    "\n",
    "# Extraindo e imprimindo o texto da resposta\n",
    "pastebin_url = r.text\n",
    "print(\" - Resposta do servidor:\\n\", r.text, \"\\n\")"
   ]
  },
  {
   "cell_type": "code",
   "execution_count": null,
   "id": "c436c085",
   "metadata": {},
   "outputs": [],
   "source": []
  }
 ],
 "metadata": {
  "kernelspec": {
   "display_name": "Python 3",
   "language": "python",
   "name": "python3"
  },
  "language_info": {
   "codemirror_mode": {
    "name": "ipython",
    "version": 3
   },
   "file_extension": ".py",
   "mimetype": "text/x-python",
   "name": "python",
   "nbconvert_exporter": "python",
   "pygments_lexer": "ipython3",
   "version": "3.9.5"
  }
 },
 "nbformat": 4,
 "nbformat_minor": 5
}
